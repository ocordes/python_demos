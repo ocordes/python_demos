{
 "cells": [
  {
   "cell_type": "markdown",
   "id": "47b4bffe-0d95-4f75-9111-9b8031efcecd",
   "metadata": {},
   "source": [
    "# Python-Demo"
   ]
  },
  {
   "cell_type": "markdown",
   "id": "8b12e531-35d4-4f16-a81c-52a362aa570c",
   "metadata": {},
   "source": [
    "Das klassische erste Programm:"
   ]
  },
  {
   "cell_type": "code",
   "execution_count": 1,
   "id": "4d1f07de-fb0f-4761-8181-9b259934ddea",
   "metadata": {},
   "outputs": [
    {
     "name": "stdout",
     "output_type": "stream",
     "text": [
      "Hello world!\n"
     ]
    }
   ],
   "source": [
    "print('Hello world!')"
   ]
  },
  {
   "cell_type": "code",
   "execution_count": null,
   "id": "f46ed605-5526-44eb-8765-a8d57a8baee0",
   "metadata": {},
   "outputs": [],
   "source": []
  }
 ],
 "metadata": {
  "kernelspec": {
   "display_name": "Python 3",
   "language": "python",
   "name": "python3"
  },
  "language_info": {
   "codemirror_mode": {
    "name": "ipython",
    "version": 3
   },
   "file_extension": ".py",
   "mimetype": "text/x-python",
   "name": "python",
   "nbconvert_exporter": "python",
   "pygments_lexer": "ipython3",
   "version": "3.9.4"
  }
 },
 "nbformat": 4,
 "nbformat_minor": 5
}
